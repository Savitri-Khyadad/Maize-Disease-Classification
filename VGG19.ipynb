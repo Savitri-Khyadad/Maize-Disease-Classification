{
  "nbformat": 4,
  "nbformat_minor": 0,
  "metadata": {
    "kernelspec": {
      "display_name": "Python 3",
      "language": "python",
      "name": "python3"
    },
    "language_info": {
      "codemirror_mode": {
        "name": "ipython",
        "version": 3
      },
      "file_extension": ".py",
      "mimetype": "text/x-python",
      "name": "python",
      "nbconvert_exporter": "python",
      "pygments_lexer": "ipython3",
      "version": "3.8.3"
    },
    "colab": {
      "name": "Copy of Copy of VGG19.ipynb",
      "provenance": [],
      "collapsed_sections": []
    },
    "accelerator": "GPU"
  },
  "cells": [
    {
      "cell_type": "code",
      "metadata": {
        "id": "dH3wzHgK3WZu",
        "colab": {
          "base_uri": "https://localhost:8080/"
        },
        "outputId": "72e222db-332b-4da6-a0ad-9919d695ed12"
      },
      "source": [
        "from google.colab import drive\n",
        "drive.mount('/content/drive')"
      ],
      "execution_count": null,
      "outputs": [
        {
          "output_type": "stream",
          "text": [
            "Mounted at /content/drive\n"
          ],
          "name": "stdout"
        }
      ]
    },
    {
      "cell_type": "code",
      "metadata": {
        "id": "klDZup5v0DZ9"
      },
      "source": [
        "from tensorflow.keras.layers import Input, Lambda, Dense, Flatten\n",
        "from tensorflow.keras import regularizers\n",
        "from tensorflow.keras.models import Model\n",
        "from tensorflow.keras.applications.vgg19 import VGG19\n",
        "from tensorflow.keras.applications.vgg19 import preprocess_input\n",
        "from tensorflow.keras.preprocessing import image\n",
        "from tensorflow.keras.preprocessing.image import ImageDataGenerator,load_img\n",
        "from tensorflow.keras.models import Sequential\n",
        "from tensorflow.keras.callbacks import EarlyStopping, ModelCheckpoint\n",
        "from tensorflow.keras.optimizers import RMSprop\n",
        "import numpy as np\n",
        "from glob import glob"
      ],
      "execution_count": null,
      "outputs": []
    },
    {
      "cell_type": "code",
      "metadata": {
        "id": "wLrENQsr0DZ-"
      },
      "source": [
        "IMAGE_SIZE = [224, 224]\n",
        "\n",
        "train_path = '/content/drive/MyDrive/Data_Maize1/Train'\n",
        "test_path = '/content/drive/MyDrive/Data_Maize1/Test'"
      ],
      "execution_count": null,
      "outputs": []
    },
    {
      "cell_type": "code",
      "metadata": {
        "id": "9rAiyaug0DZ-",
        "colab": {
          "base_uri": "https://localhost:8080/"
        },
        "outputId": "a45590c4-0e4c-4075-d3c2-e98100f44ad8"
      },
      "source": [
        "Vgg = VGG19(input_shape=IMAGE_SIZE + [3], weights='imagenet', include_top=False)"
      ],
      "execution_count": null,
      "outputs": [
        {
          "output_type": "stream",
          "text": [
            "Downloading data from https://storage.googleapis.com/tensorflow/keras-applications/vgg19/vgg19_weights_tf_dim_ordering_tf_kernels_notop.h5\n",
            "80142336/80134624 [==============================] - 0s 0us/step\n"
          ],
          "name": "stdout"
        }
      ]
    },
    {
      "cell_type": "code",
      "metadata": {
        "id": "Cf5hbXJ30DZ_"
      },
      "source": [
        "for layer in Vgg.layers:\n",
        "    layer.trainable = False"
      ],
      "execution_count": null,
      "outputs": []
    },
    {
      "cell_type": "code",
      "metadata": {
        "id": "h52Cw6WG0DZ_"
      },
      "source": [
        "x = Flatten()(Vgg.output)\n",
        "x1 = Dense(128, activation='relu',kernel_regularizer=regularizers.l2(0.0004))(x)\n",
        "prediction = Dense(5, activation='softmax')(x1)\n",
        "\n",
        "model = Model(inputs=Vgg.input, outputs=prediction)"
      ],
      "execution_count": null,
      "outputs": []
    },
    {
      "cell_type": "code",
      "metadata": {
        "id": "gYCvTJwK0DaA",
        "colab": {
          "base_uri": "https://localhost:8080/"
        },
        "outputId": "f33a7607-18f5-4aea-b2cd-0624f133af18"
      },
      "source": [
        "model.summary()"
      ],
      "execution_count": null,
      "outputs": [
        {
          "output_type": "stream",
          "text": [
            "Model: \"model\"\n",
            "_________________________________________________________________\n",
            "Layer (type)                 Output Shape              Param #   \n",
            "=================================================================\n",
            "input_1 (InputLayer)         [(None, 224, 224, 3)]     0         \n",
            "_________________________________________________________________\n",
            "block1_conv1 (Conv2D)        (None, 224, 224, 64)      1792      \n",
            "_________________________________________________________________\n",
            "block1_conv2 (Conv2D)        (None, 224, 224, 64)      36928     \n",
            "_________________________________________________________________\n",
            "block1_pool (MaxPooling2D)   (None, 112, 112, 64)      0         \n",
            "_________________________________________________________________\n",
            "block2_conv1 (Conv2D)        (None, 112, 112, 128)     73856     \n",
            "_________________________________________________________________\n",
            "block2_conv2 (Conv2D)        (None, 112, 112, 128)     147584    \n",
            "_________________________________________________________________\n",
            "block2_pool (MaxPooling2D)   (None, 56, 56, 128)       0         \n",
            "_________________________________________________________________\n",
            "block3_conv1 (Conv2D)        (None, 56, 56, 256)       295168    \n",
            "_________________________________________________________________\n",
            "block3_conv2 (Conv2D)        (None, 56, 56, 256)       590080    \n",
            "_________________________________________________________________\n",
            "block3_conv3 (Conv2D)        (None, 56, 56, 256)       590080    \n",
            "_________________________________________________________________\n",
            "block3_conv4 (Conv2D)        (None, 56, 56, 256)       590080    \n",
            "_________________________________________________________________\n",
            "block3_pool (MaxPooling2D)   (None, 28, 28, 256)       0         \n",
            "_________________________________________________________________\n",
            "block4_conv1 (Conv2D)        (None, 28, 28, 512)       1180160   \n",
            "_________________________________________________________________\n",
            "block4_conv2 (Conv2D)        (None, 28, 28, 512)       2359808   \n",
            "_________________________________________________________________\n",
            "block4_conv3 (Conv2D)        (None, 28, 28, 512)       2359808   \n",
            "_________________________________________________________________\n",
            "block4_conv4 (Conv2D)        (None, 28, 28, 512)       2359808   \n",
            "_________________________________________________________________\n",
            "block4_pool (MaxPooling2D)   (None, 14, 14, 512)       0         \n",
            "_________________________________________________________________\n",
            "block5_conv1 (Conv2D)        (None, 14, 14, 512)       2359808   \n",
            "_________________________________________________________________\n",
            "block5_conv2 (Conv2D)        (None, 14, 14, 512)       2359808   \n",
            "_________________________________________________________________\n",
            "block5_conv3 (Conv2D)        (None, 14, 14, 512)       2359808   \n",
            "_________________________________________________________________\n",
            "block5_conv4 (Conv2D)        (None, 14, 14, 512)       2359808   \n",
            "_________________________________________________________________\n",
            "block5_pool (MaxPooling2D)   (None, 7, 7, 512)         0         \n",
            "_________________________________________________________________\n",
            "flatten (Flatten)            (None, 25088)             0         \n",
            "_________________________________________________________________\n",
            "dense (Dense)                (None, 128)               3211392   \n",
            "_________________________________________________________________\n",
            "dense_1 (Dense)              (None, 5)                 645       \n",
            "=================================================================\n",
            "Total params: 23,236,421\n",
            "Trainable params: 3,212,037\n",
            "Non-trainable params: 20,024,384\n",
            "_________________________________________________________________\n"
          ],
          "name": "stdout"
        }
      ]
    },
    {
      "cell_type": "code",
      "metadata": {
        "id": "eQ2uQm_e0DaA"
      },
      "source": [
        "model.compile(\n",
        "  loss='categorical_crossentropy',\n",
        "  optimizer='Adam',\n",
        "  metrics=['accuracy']\n",
        ")"
      ],
      "execution_count": null,
      "outputs": []
    },
    {
      "cell_type": "code",
      "metadata": {
        "id": "w_M7PV3J5hIC"
      },
      "source": [
        "model_callbacks = [\n",
        "                   EarlyStopping(monitor=\"val_loss\", min_delta=0.001, patience=10, mode=\"min\", restore_best_weights=True),\n",
        "                   ModelCheckpoint('/content/drive/MyDrive/models/model_VGG19_new.h5', monitor=\"val_loss\",save_best_only=True,mode=\"min\")\n",
        "]"
      ],
      "execution_count": null,
      "outputs": []
    },
    {
      "cell_type": "code",
      "metadata": {
        "id": "FNbEzdfW0DaB"
      },
      "source": [
        "from tensorflow.keras.preprocessing.image import ImageDataGenerator\n",
        "\n",
        "train_datagen = ImageDataGenerator(rescale = 1./255,validation_split=0.2,)"
      ],
      "execution_count": null,
      "outputs": []
    },
    {
      "cell_type": "code",
      "metadata": {
        "id": "bRrcVHUN0DaB",
        "colab": {
          "base_uri": "https://localhost:8080/"
        },
        "outputId": "5deb98bf-6506-41a3-b087-ddf164f829e8"
      },
      "source": [
        "training_set = train_datagen.flow_from_directory(train_path,\n",
        "                                                 target_size = (224, 224),\n",
        "                                                 batch_size = 32,\n",
        "                                                 subset='training',\n",
        "                                                 class_mode = 'categorical')"
      ],
      "execution_count": null,
      "outputs": [
        {
          "output_type": "stream",
          "text": [
            "Found 1637 images belonging to 5 classes.\n"
          ],
          "name": "stdout"
        }
      ]
    },
    {
      "cell_type": "code",
      "metadata": {
        "id": "DlbaFyzU0DaB",
        "colab": {
          "base_uri": "https://localhost:8080/"
        },
        "outputId": "fc99a077-1886-4bd7-b61f-1b55fddd8287"
      },
      "source": [
        "val_set = train_datagen.flow_from_directory(train_path,\n",
        "                                            target_size = (224, 224),\n",
        "                                            batch_size = 32,\n",
        "                                            subset='validation',\n",
        "                                            class_mode = 'categorical')"
      ],
      "execution_count": null,
      "outputs": [
        {
          "output_type": "stream",
          "text": [
            "Found 409 images belonging to 5 classes.\n"
          ],
          "name": "stdout"
        }
      ]
    },
    {
      "cell_type": "code",
      "metadata": {
        "id": "eXihckOO0DaC",
        "colab": {
          "base_uri": "https://localhost:8080/"
        },
        "outputId": "073c94e9-7724-488c-e893-b63bf688d3ae"
      },
      "source": [
        "r = model.fit(\n",
        "  training_set,steps_per_epoch=len(training_set),\n",
        "  validation_data=val_set,validation_steps=len(val_set),\n",
        "  epochs=100,\n",
        "  callbacks=model_callbacks\n",
        ")"
      ],
      "execution_count": null,
      "outputs": [
        {
          "output_type": "stream",
          "text": [
            "Epoch 1/100\n",
            "52/52 [==============================] - 666s 13s/step - loss: 2.5932 - accuracy: 0.4873 - val_loss: 0.5455 - val_accuracy: 0.8264\n",
            "Epoch 2/100\n",
            "52/52 [==============================] - 82s 2s/step - loss: 0.3765 - accuracy: 0.8842 - val_loss: 0.3766 - val_accuracy: 0.8949\n",
            "Epoch 3/100\n",
            "52/52 [==============================] - 81s 2s/step - loss: 0.1849 - accuracy: 0.9739 - val_loss: 0.3645 - val_accuracy: 0.8900\n",
            "Epoch 4/100\n",
            "52/52 [==============================] - 81s 2s/step - loss: 0.1472 - accuracy: 0.9829 - val_loss: 0.5077 - val_accuracy: 0.8411\n",
            "Epoch 5/100\n",
            "52/52 [==============================] - 80s 2s/step - loss: 0.1233 - accuracy: 0.9826 - val_loss: 0.3774 - val_accuracy: 0.8949\n",
            "Epoch 6/100\n",
            "52/52 [==============================] - 80s 2s/step - loss: 0.0876 - accuracy: 0.9979 - val_loss: 0.5567 - val_accuracy: 0.8460\n",
            "Epoch 7/100\n",
            "52/52 [==============================] - 80s 2s/step - loss: 0.1197 - accuracy: 0.9755 - val_loss: 0.4166 - val_accuracy: 0.8655\n",
            "Epoch 8/100\n",
            "52/52 [==============================] - 80s 2s/step - loss: 0.0882 - accuracy: 0.9957 - val_loss: 0.3813 - val_accuracy: 0.8998\n",
            "Epoch 9/100\n",
            "52/52 [==============================] - 80s 2s/step - loss: 0.0757 - accuracy: 0.9961 - val_loss: 0.4042 - val_accuracy: 0.8998\n",
            "Epoch 10/100\n",
            "52/52 [==============================] - 80s 2s/step - loss: 0.0838 - accuracy: 0.9928 - val_loss: 0.3998 - val_accuracy: 0.8924\n",
            "Epoch 11/100\n",
            "52/52 [==============================] - 80s 2s/step - loss: 0.0734 - accuracy: 0.9980 - val_loss: 0.3781 - val_accuracy: 0.8851\n",
            "Epoch 12/100\n",
            "52/52 [==============================] - 80s 2s/step - loss: 0.0655 - accuracy: 0.9962 - val_loss: 0.3672 - val_accuracy: 0.8900\n",
            "Epoch 13/100\n",
            "52/52 [==============================] - 80s 2s/step - loss: 0.0667 - accuracy: 0.9945 - val_loss: 0.4141 - val_accuracy: 0.8802\n"
          ],
          "name": "stdout"
        }
      ]
    },
    {
      "cell_type": "code",
      "metadata": {
        "id": "8HXJT48K0DaC"
      },
      "source": [
        "import matplotlib.pyplot as plt"
      ],
      "execution_count": null,
      "outputs": []
    },
    {
      "cell_type": "code",
      "metadata": {
        "id": "vKzm13Sy0DaC",
        "colab": {
          "base_uri": "https://localhost:8080/",
          "height": 530
        },
        "outputId": "b163139b-ae5b-4d23-83bf-8c26507b93f2"
      },
      "source": [
        "#loss\n",
        "plt.plot(r.history['loss'], label='train loss')\n",
        "plt.plot(r.history['val_loss'], label='val loss')\n",
        "plt.legend()\n",
        "plt.show()\n",
        "plt.savefig('/content/drive/MyDrive/LossVal_loss')\n",
        "\n",
        "#accuracy\n",
        "plt.plot(r.history['accuracy'], label='train acc')\n",
        "plt.plot(r.history['val_accuracy'], label='val acc')\n",
        "plt.legend()\n",
        "plt.show()\n",
        "plt.savefig('/content/drive/MyDrive/AccVal_acc')"
      ],
      "execution_count": null,
      "outputs": [
        {
          "output_type": "display_data",
          "data": {
            "image/png": "[encoded data removed]",
            "text/plain": [
              "<Figure size 432x288 with 1 Axes>"
            ]
          },
          "metadata": {
            "tags": [],
            "needs_background": "light"
          }
        },
        {
          "output_type": "display_data",
          "data": {
            "image/png": "[encoded data removed]",
            "text/plain": [
              "<Figure size 432x288 with 1 Axes>"
            ]
          },
          "metadata": {
            "tags": [],
            "needs_background": "light"
          }
        },
        {
          "output_type": "display_data",
          "data": {
            "text/plain": [
              "<Figure size 432x288 with 0 Axes>"
            ]
          },
          "metadata": {
            "tags": []
          }
        }
      ]
    },
    {
      "cell_type": "code",
      "metadata": {
        "id": "SIzKYI1q0DaD"
      },
      "source": [
        "from tensorflow.keras.models import load_model\n",
        "\n",
        "model.save('/content/drive/MyDrive/models/model_vgg_new_l.h5')"
      ],
      "execution_count": null,
      "outputs": []
    },
    {
      "cell_type": "code",
      "metadata": {
        "id": "oFnTx1dNDSQT"
      },
      "source": [
        "test_datagen = ImageDataGenerator(rescale = 1./255)"
      ],
      "execution_count": null,
      "outputs": []
    },
    {
      "cell_type": "code",
      "metadata": {
        "id": "1iL4AEPgDcao",
        "colab": {
          "base_uri": "https://localhost:8080/"
        },
        "outputId": "6954f469-9eae-46a3-d11f-f9929246e5c8"
      },
      "source": [
        "test_set = test_datagen.flow_from_directory(test_path,\n",
        "                                            target_size = (224, 224),\n",
        "                                            batch_size = 32)"
      ],
      "execution_count": null,
      "outputs": [
        {
          "output_type": "stream",
          "text": [
            "Found 500 images belonging to 5 classes.\n"
          ],
          "name": "stdout"
        }
      ]
    },
    {
      "cell_type": "code",
      "metadata": {
        "id": "46h2lvll0DaD",
        "colab": {
          "base_uri": "https://localhost:8080/"
        },
        "outputId": "bb0e0728-1e1e-49e9-83bf-ae062e30bbc8"
      },
      "source": [
        "y_pred = model.evaluate(test_set)"
      ],
      "execution_count": null,
      "outputs": [
        {
          "output_type": "stream",
          "text": [
            "16/16 [==============================] - 171s 11s/step - loss: 0.6690 - accuracy: 0.7880\n"
          ],
          "name": "stdout"
        }
      ]
    },
    {
      "cell_type": "code",
      "metadata": {
        "id": "u_vetjt7EbRg"
      },
      "source": [
        "from tensorflow.keras.models import load_model\n",
        "from tensorflow.keras.preprocessing import image\n",
        "model1=load_model('/content/drive/MyDrive/models/model_VGG19_new.h5')"
      ],
      "execution_count": null,
      "outputs": []
    },
    {
      "cell_type": "code",
      "metadata": {
        "id": "T5GRp4ZdhtJ4"
      },
      "source": [
        "y_pred1 = model1.evaluate(test_set)"
      ],
      "execution_count": null,
      "outputs": []
    },
    {
      "cell_type": "code",
      "metadata": {
        "id": "8fv2JW3Jvozb"
      },
      "source": [
        "img=image.load_img('/content/drive/MyDrive/Data_Maize1/Test/Blight/Corn_Blight (401).JPG',target_size=(224,224))"
      ],
      "execution_count": null,
      "outputs": []
    },
    {
      "cell_type": "code",
      "metadata": {
        "id": "jk_wD9XrwNaH"
      },
      "source": [
        "x=image.img_to_array(img)"
      ],
      "execution_count": null,
      "outputs": []
    },
    {
      "cell_type": "code",
      "metadata": {
        "colab": {
          "base_uri": "https://localhost:8080/"
        },
        "id": "IN_li5ZzwP8a",
        "outputId": "ec9b3577-4b8a-40f5-ef6b-65a9550a54de"
      },
      "source": [
        "x.shape"
      ],
      "execution_count": null,
      "outputs": [
        {
          "output_type": "execute_result",
          "data": {
            "text/plain": [
              "(224, 224, 3)"
            ]
          },
          "metadata": {
            "tags": []
          },
          "execution_count": 11
        }
      ]
    },
    {
      "cell_type": "code",
      "metadata": {
        "colab": {
          "base_uri": "https://localhost:8080/"
        },
        "id": "_ZtSJyZzwTsH",
        "outputId": "06ff2914-5367-4b59-fda7-4782a300eaea"
      },
      "source": [
        "import numpy as np\n",
        "x=x/255\n",
        "x=np.expand_dims(x,axis=0)\n",
        "x.shape"
      ],
      "execution_count": null,
      "outputs": [
        {
          "output_type": "execute_result",
          "data": {
            "text/plain": [
              "(1, 224, 224, 3)"
            ]
          },
          "metadata": {
            "tags": []
          },
          "execution_count": 13
        }
      ]
    },
    {
      "cell_type": "code",
      "metadata": {
        "colab": {
          "base_uri": "https://localhost:8080/"
        },
        "id": "Cz4O_hAtwUa7",
        "outputId": "dbff1743-b9ea-4b75-de66-f8c4480b52c5"
      },
      "source": [
        "p = model1.predict(x)\n",
        "#print(np.round_(p))\n",
        "print((p))"
      ],
      "execution_count": null,
      "outputs": [
        {
          "output_type": "stream",
          "text": [
            "[[9.6145552e-01 4.0661232e-03 1.4705738e-02 1.3841697e-04 1.9634135e-02]]\n"
          ],
          "name": "stdout"
        }
      ]
    },
    {
      "cell_type": "code",
      "metadata": {
        "colab": {
          "base_uri": "https://localhost:8080/"
        },
        "id": "ffvLQEwbwW8S",
        "outputId": "f00f9bbf-398f-467d-f7c7-d1861d65851a"
      },
      "source": [
        "p = np.argmax(p, axis=1)\n",
        "p"
      ],
      "execution_count": null,
      "outputs": [
        {
          "output_type": "execute_result",
          "data": {
            "text/plain": [
              "array([0])"
            ]
          },
          "metadata": {
            "tags": []
          },
          "execution_count": 17
        }
      ]
    }
  ]
}